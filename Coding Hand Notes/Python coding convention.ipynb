{
 "cells": [
  {
   "cell_type": "markdown",
   "metadata": {},
   "source": [
    "### PEP8\n",
    "\n",
    "##### The PEP8 guidelines for code readability include the following:\n",
    "\n",
    "&emsp;&emsp;Four spaces for indentation<br>\n",
    "&emsp;&emsp;Blank lines to separate functions and classes<br>\n",
    "&emsp;&emsp;Spaces around operators and after commas<br>\n",
    "\n",
    "##### The PEP8 coding conventions for consistency and manageability include:\n",
    "\n",
    "&emsp;&emsp;Add larger blocks of code inside functions<br>\n",
    "&emsp;&emsp;Name functions and files using lowercase with underscores<br>\n",
    "&emsp;&emsp;Name classes using CamelCase<br>\n",
    "&emsp;&emsp;Name constants in capital letters with underscores separating words<br>\n",
    "\n"
   ]
  },
  {
   "cell_type": "markdown",
   "metadata": {},
   "source": [
    "##### To ensure that your code adheres to the predefined style and standard without executing the code, you can use the Static code analysis method.<br>\n",
    "`pip install pylint` pylint can verify if the codes follow PEP8 guidelines.<br>\n",
    "`pylint code.py` can return the score and the correction instructions in the terminal\n",
    "\n",
    "##### Unit testing is a method to validate if units of code are operating as designed. During code development, each unit is tested. The unit is tested in a continuous integration/continuous delivery test server environment. You can use different test functions to build unit tests and review the unit test output to determine if the test passed or failed.<br>"
   ]
  },
  {
   "cell_type": "raw",
   "metadata": {},
   "source": [
    "import unittest\n",
    "\n",
    "from mypackage.mymodule import my_function\n",
    "\n",
    "class TestMyFunction(unittest.TestCase):\n",
    "\n",
    "    def test_my_function(self):\n",
    "\n",
    "        result = my_function(<args>)\n",
    "\n",
    "        self.asserEqual(result, <response>)\n",
    "\n",
    "unittest.main()\n"
   ]
  },
  {
   "cell_type": "markdown",
   "metadata": {},
   "source": [
    "##### To create a package:\n",
    "\n",
    "&emsp;&emsp;Create a folder with the package name<br>\n",
    "&emsp;&emsp;Create an empty `__init__.py` file<br>\n",
    "&emsp;&emsp;Create the required modules<br>\n",
    "&emsp;&emsp;In the `__init__.py` file, add code to reference the modules needed in the package<br>\n",
    "\n",
    "##### You can verify the package via the bash terminal in a Python shell."
   ]
  }
 ],
 "metadata": {
  "kernelspec": {
   "display_name": "MONTHLYREPORT-omFkZ47_",
   "language": "python",
   "name": "python3"
  },
  "language_info": {
   "codemirror_mode": {
    "name": "ipython",
    "version": 3
   },
   "file_extension": ".py",
   "mimetype": "text/x-python",
   "name": "python",
   "nbconvert_exporter": "python",
   "pygments_lexer": "ipython3",
   "version": "3.12.0"
  }
 },
 "nbformat": 4,
 "nbformat_minor": 2
}
