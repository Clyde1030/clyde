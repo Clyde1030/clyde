{
 "cells": [
  {
   "cell_type": "markdown",
   "metadata": {},
   "source": [
    "Decorators: \n",
    "\n",
    "A function that takes another function as an argument, adds some kind of functionality and then returns another function. All of these are without altering the source code of the original function that you passed in."
   ]
  },
  {
   "cell_type": "code",
   "execution_count": null,
   "metadata": {},
   "outputs": [],
   "source": [
    "def decorator_function(original_function):\n",
    "    def wrapper_function():\n",
    "        print('wrapper executed this before {}'.format(original_function.__name__))\n",
    "        return original_function()\n",
    "    return wrapper_function\n",
    "\n",
    "@decorator_function\n",
    "def display():\n",
    "    print('display function ran')\n",
    "\n",
    "# same as: \n",
    "# display = decorator_function(display)"
   ]
  },
  {
   "cell_type": "code",
   "execution_count": null,
   "metadata": {},
   "outputs": [],
   "source": [
    "# Good Example on Closures:\n",
    "\n",
    "import logging \n",
    "logging.basicConfig(filename='example.log', level=logging.INFO)\n",
    "\n",
    "def logger(func):\n",
    "    def log_func(*args):\n",
    "        logging.info('Running \"{}\" with arguments {}'.format(func.__name__,args))\n",
    "        print(func(*args))\n",
    "    return log_func\n",
    "\n",
    "\n",
    "def add(x,y):\n",
    "    return x + y\n",
    "\n",
    "def sub(x,y):\n",
    "    return x - y\n",
    "\n",
    "add_logger = logger(add)\n",
    "sub_logger = logger(sub)\n",
    "\n",
    "add_logger(3,3)\n",
    "add_logger(4,5)\n",
    "\n",
    "sub_logger(10,5)\n",
    "sub_logger(20,10)"
   ]
  },
  {
   "cell_type": "markdown",
   "metadata": {},
   "source": [
    "\n",
    "First-Class Objects\n",
    "\n",
    "In Python, functions are first class objects that mean that functions in Python can be used or passed as arguments.\n",
    "Properties of first class functions:\n",
    "A function is an instance of the Object type.\n",
    "\n",
    "You can store the function in a variable.\n",
    "\n",
    "You can pass the function as a parameter to another function.\n",
    "\n",
    "You can return the function from a function.\n",
    "\n",
    "You can store them in data structures such as hash tables, lists, …\n"
   ]
  },
  {
   "cell_type": "code",
   "execution_count": null,
   "metadata": {},
   "outputs": [],
   "source": [
    "def square(x):\n",
    "    return x * x\n",
    "\n",
    "f = square\n",
    "print(square)\n",
    "print(5)\n",
    "f(5)\n",
    "\n",
    "def cube(x):\n",
    "    return x * x * x\n",
    "\n",
    "# Self-Defined Map Function\n",
    "\n",
    "def my_map(func, arg_list):\n",
    "    result = []\n",
    "    for i in arg_list:\n",
    "        result.append(func(i))\n",
    "    return result\n",
    "\n",
    "squares = my_map(square, [1,2,3,4,5])\n",
    "cubes = my_map(cube, [1,2,3,4,5])\n",
    "\n",
    "print(squares)\n",
    "print(cubes)\n",
    "\n",
    "\n",
    "def logger(msg):\n",
    "\n",
    "    def log_message():\n",
    "        print('Log:', msg)\n",
    "    \n",
    "    return log_message\n",
    "\n",
    "log_hi = logger('Hi!')\n",
    "log_hi()\n",
    "\n",
    "def html_tag(tag):\n",
    "\n",
    "    def wrap_text(msg):\n",
    "        print('<{0}>{1}</{0}>'.format(tag,msg))\n",
    "\n",
    "    return wrap_text\n",
    "\n",
    "print_h1 = html_tag('h1')\n",
    "print(print_h1)\n",
    "print_h1 = html_tag('Test Headline!')\n",
    "print_h1 = html_tag('Another Headline!')\n",
    "\n",
    "print_p = html_tag('p')\n",
    "print_p = html_tag('Test Paragraph')"
   ]
  },
  {
   "cell_type": "markdown",
   "metadata": {},
   "source": [
    "# Closures\n",
    "\n",
    "Wiki says, \" A closure is a record storing a function together with an environment: a mapping associating each free variable of the function with the value or storage location to which the name was bound when the closure was created. A closure, unlike a plain function, allows the function to access those captured variables through the closure's reference to them, even when the function is invoked outside their scope.\"\n",
    "\n",
    "In simple terms, a closure is an inner function that remembers and has access to variables and the local scope which it was created even after the outer function has finished executing. A closure closes over the free variables from their environment.\n"
   ]
  },
  {
   "cell_type": "code",
   "execution_count": null,
   "metadata": {},
   "outputs": [],
   "source": [
    "def outer_func(msg):\n",
    "    message = msg  #<--free variable \n",
    "\n",
    "    def inner_func():\n",
    "        print(message)\n",
    "    \n",
    "    return inner_func\n",
    "\n",
    "hi_func = outer_func('Hi')\n",
    "hello_func = outer_func('Hello')\n",
    "\n",
    "hi_func()\n",
    "hello_func()\n",
    "\n",
    "# print(my_func.__name__)"
   ]
  }
 ],
 "metadata": {
  "language_info": {
   "name": "python"
  }
 },
 "nbformat": 4,
 "nbformat_minor": 2
}
