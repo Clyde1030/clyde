{
 "cells": [
  {
   "cell_type": "markdown",
   "metadata": {},
   "source": [
    "### Introduction to Linux"
   ]
  },
  {
   "cell_type": "markdown",
   "metadata": {},
   "source": [
    "### Five Layers of Linux&emsp;\n",
    "The UI&emsp; User interface. Microsoft Windows is a GUI(graphical user interface)<br>\n",
    "Application&emsp; Shell is an OS level application that you can use to enter commands. Includes System daemonds, Shells, Apps, Tools<br>\n",
    "OS&emsp; the operating system runs on top of the kernal and is vital for system health and stability.<br>\n",
    "Kernal&emsp; the lowest level software that enables applications to interact with hardware<br>\n",
    "Hardware&emsp; indludes all the physical or electronic components of your PC.<br>"
   ]
  },
  {
   "cell_type": "markdown",
   "metadata": {},
   "source": [
    "#### Linux File System\n",
    "`~`   &emsp;home directory<br>\n",
    "`/`   &emsp;root directory<br>\n",
    "`.`   &emsp;present working directory<br>\n",
    "`..`  &emsp;parent of present working directory<br>\n",
    "`/bin`&emsp;User binary files folder contains the codes your machine reads to run programs and execute commands<br>\n",
    "`/user`&emsp;contains user programs<br>\n",
    "`/home`&emsp;your personal working directory where you store all your personal files<br>\n",
    "`/boot`&emsp;system boot files<br>\n",
    "`/media`&emsp;USB drives, CD etc temporary files<br>"
   ]
  },
  {
   "cell_type": "markdown",
   "metadata": {},
   "source": [
    "### Linux Shell\n",
    "\n",
    "The Shell is an OS level app that interprets commands. Some popular shells are Bash and Zsh. You interact with a Linux shell through the terminal."
   ]
  },
  {
   "cell_type": "markdown",
   "metadata": {},
   "source": [
    "\n",
    "Use the sudo command to enable access to \"super user\" system admin tools. sudo = \"Super-user do\". Use the sudo command to activate the powerful apt command. Use apt to upgrade nano to its latest version. apt (Advanced Packaging Tool) is a powerful command line tool. You use it to perform system administration operations such as installing software packages, upgrading existing packages, and updating your system's package list index.\n",
    "\n",
    "`sudo apt update`&emsp;         fetch and display up-to-date information about all upgradable packages<br>\n",
    "`sudo apt upgrade nano`&emsp;   upgrade to the latest supported version of nano<br>\n",
    "`sudo apt install vim`&emsp;    install vim <br>\n",
    "`nano filename.txt`&emsp;       create a new text file and open it with nano<br>\n"
   ]
  },
  {
   "cell_type": "markdown",
   "metadata": {},
   "source": [
    "### Introduction to Linux Commands\n",
    "A shell is an interactive user interface. Use shell commands to navigate and work with files and directories.<br>\n",
    "\n",
    "##### Get user info \n",
    "`whoami` &emsp; user name<br>\n",
    "`id` &emsp; user id and group id<br>\n",
    "`uname -a` &emsp; return operating system name, username, and other info<br>\n",
    "`ps` &emsp; running processes<br>\n",
    "`man` &emsp; read the manual for any command<br>\n",
    "&emsp;&emsp;`man top` &emsp; display reference manual for the command 'top'<br>\n",
    "&emsp;&emsp;`man -k .` &emsp; list available man pages, including a brief description for each command<br>\n",
    "`npm install -g tldr`&emsp; install a command-line tool to access TLDR Pages from your terminal<br>\n",
    "`tldr command_name`&emsp; Once you've installed the tool, you can use the tldr command to easily access the TLDR page of a command<br>\n",
    "`df`(disk-free) &emsp; check system disk, or mounted file systems usage<br>\n",
    "`ps` &emsp; monitor processes and resources usage<br>\n",
    "`top` &emsp; task manager, monitor processes and resources usage<br>\n",
    "`date` &emsp; print get today's date or extract information about the date; `date \"+It's %A, the %j day of %Y\"` print \"It's Friday, the 097 day of 2023\". Use `man date` to check how to use<br>\n",
    "`echo` &emsp; print string or variable value<br>\n",
    "&emsp;&emsp; `-e` option when working with special characters, for instance: `echo -e \"\\tThis will be printed \\nin two lines\"`\n",
    "\n",
    "##### Working with files and directories\n",
    "Relative paths are relative to your current working directories, while absolute paths stand independently.<br>\n",
    "\n",
    "`cp`&emsp; copy file<br>\n",
    "`mv`&emsp; change file name or path<br>\n",
    "`mkdir`&emsp; create a new directory<br>\n",
    "`rmdir`&emsp; remove an empty directory<br>\n",
    "`rm`&emsp; delete file<br>\n",
    "`touch`&emsp; create empty file, update file timestamp<br>\n",
    "`chmod`&emsp; change/modify file permissions<br>\n",
    "`wc`&emsp; get counts of lines, words, characters in file<br>\n",
    "`grep`&emsp; get the lines of a file that match your desired criteria<br>\n",
    "`ls`&emsp; list files and directories in the current directory<br>\n",
    "&emsp;&emsp;`ls path_to_directory`&emsp; list files and directories in a directory<br>\n",
    "`pwd`&emsp; return path to present working directory<br>\n",
    "`find` &emsp; finds files in your directories<br>\n",
    "`cut`&emsp; extracts slices and fields from lines<br>\n",
    "`paste`&emsp; You can merge lines from different files<br>\n",
    "`cd child_directory`&emsp; change the current directory to a subdirectory<br>\n",
    "&emsp;&emsp;`cd ../`&emsp;              change up one level<br>\n",
    "&emsp;&emsp;`cd ~`&emsp;                change to home<br>\n",
    "&emsp;&emsp;`cd ../dir_2`&emsp;         Suppose you have two sibling directories dir_1 and dir_2 and your cwd is dir_1, enter this to change to dir_2<br>\n",
    "&emsp;&emsp;`cd -`&emsp;                change the cwd back to the directory you were in previously<br>\n",
    "\n",
    "\n",
    "##### Printing file and string contents\n",
    "`cat`&emsp; print file contents<br>\n",
    "`more`&emsp; print file contents page by page<br>\n",
    "`head`&emsp; print first n lines of the file<br>\n",
    "`tail`&emsp; print last n lines of the file<br>\n",
    "`sort`&emsp; to view the lines of a file alphanumerically<br>\n",
    "`uniq`&emsp; to remove repeated lines from your view<br>\n",
    "\n",
    "\n",
    "##### Compression and archiving\n",
    "`zip`&emsp; compresses files and folders prior to archiving them<br>\n",
    "`unzip` unpacks and decompresses a zipped archive<br>\n",
    "`tar` archives and compresses files and directories into a tarball. This can also decompress and unpack a tar.gz archive<br>\n",
    "\n",
    "##### Networking\n",
    "`hostname`&emsp; print hostname<br>\n",
    "`ping`&emsp; send packets to URL and print response<br>\n",
    "`ifconfig`&emsp; display or configure system network interfaces<br>\n",
    "`curl`&emsp; display contents of file at a URL<br>\n",
    "`wget`&emsp; download file from URL<br>\n",
    "\n",
    "\n",
    "\n"
   ]
  },
  {
   "cell_type": "markdown",
   "metadata": {},
   "source": []
  }
 ],
 "metadata": {
  "language_info": {
   "name": "python"
  }
 },
 "nbformat": 4,
 "nbformat_minor": 2
}
