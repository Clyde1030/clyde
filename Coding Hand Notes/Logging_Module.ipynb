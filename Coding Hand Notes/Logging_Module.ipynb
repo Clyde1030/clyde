{
 "cells": [
  {
   "cell_type": "markdown",
   "metadata": {},
   "source": [
    "# LOGGING NOTES\n",
    "\n",
    "### 5 levels\n",
    "\n",
    "* `DEBUG`: Detailed information, typically of interest only when diagnosing problems.\n",
    "* `INFO`: Configuration that things are working as expected.\n",
    "* `WARNING`: An indication that something unexpected happened, or indicative of some problems in the near future (e.g. 'disk space low'). The software is still working as expected.\n",
    "* `ERROR`: Due to a more serious problem, the software has been not able to perform some function.\n",
    "* `CRITICAL`: A serious error, indicating that the problem itself may be unable to continue running.\n",
    "\n",
    "\n",
    "How default logging level work is that it will only log the default level or higher information into the console. If the default is warning, it will not log debug or info level information.<br><br>\n",
    "&emsp;`logging.basicConfig(level=logging.DEBUG)`<br>To change basic configuration, Debug has to be capitalization. This means the constant of that level. Then, the debug level can be logged.<br><br>\n",
    "&emsp;`logging.basicConfig(filename=’test.log’,level=logging.DEBUG)`<br>To create a .txt file for the logging result in current working directory.<br><br>\n",
    "&emsp;`logging.basicConfig(filename=’test.log’, level=logging.DEBUG, fortmat = ‘%(asctime)s:%(levelname)s:%(message)s)’)`<br>To create a .txt file for the logging result and change the logging output format.<br>\n",
    " \n",
    "See https://docs.python.org/3/library/logging.html for more<br><br>\n",
    "\n",
    "### Root Logger\n",
    "`root` means the root logger. Root logger is good for smaller applications, but it can be inefficient if the application gets bigger. When you import a module, it actually runs the code in that module you imported. The logger used if applicable will be based on the module you imported as well.<br>\n",
    "If you have `logging.basicConfig` in the imported module, and you have another one in the working module(where you import into) then the working module’s basicConfig will be based on the imported, and it does not overwrite imported’s. To solve this, create different logger for each module.\n"
   ]
  },
  {
   "cell_type": "code",
   "execution_count": null,
   "metadata": {},
   "outputs": [],
   "source": [
    "import logging\n",
    "\n",
    "logger = logging.getLogger(__name__)  \n",
    "logger.setLevel(logging.INFO)\n",
    "formatter = logging.Formatter(\"%(asctime)s:%(levelname)s:%(name)s:%(message)s)\") \n",
    "file_handler = logging.FileHandler(\"employee.log\") # Basically a variable that configures employee.log instead of root.\n",
    "file_handler.setFormatter(formatter) # set formatting\n",
    "logger.addHandler(file_handler) # Add Handler\n",
    "stream_handler = logging.StreamHandler()\n",
    "logger.exception(\"…\") # this can enable traceback\n",
    "logging.basicConfig(filename='test.log', level=logging.DEBUG, fortmat = '%(asctime)s:%(levelname)s:%(message)s') "
   ]
  }
 ],
 "metadata": {
  "language_info": {
   "name": "python"
  }
 },
 "nbformat": 4,
 "nbformat_minor": 2
}
