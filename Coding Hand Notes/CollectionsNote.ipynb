{
 "cells": [
  {
   "cell_type": "markdown",
   "metadata": {},
   "source": [
    "\n",
    "### Collection Python Note<br>\n",
    "This video talks about five different data structures in collections module: Counter, namedtuple, Orderdict, defaultdict, deque<br>\n",
    "The Youtube Video: https://www.youtube.com/watch?v=UdcPhnNjSEw&t=498s"
   ]
  },
  {
   "cell_type": "markdown",
   "metadata": {},
   "source": [
    "### Counter<br>\n",
    "A counter is a container that stores the elements as dictionary keys in their counts as dictionary values"
   ]
  },
  {
   "cell_type": "code",
   "execution_count": 1,
   "metadata": {},
   "outputs": [
    {
     "data": {
      "text/plain": [
       "['a', 'a', 'a', 'a', 'a', 'b', 'b', 'b', 'b', 'b', 'c', 'c', 'c']"
      ]
     },
     "execution_count": 1,
     "metadata": {},
     "output_type": "execute_result"
    },
    {
     "ename": "",
     "evalue": "",
     "output_type": "error",
     "traceback": [
      "\u001b[1;31mThe Kernel crashed while executing code in the current cell or a previous cell. \n",
      "\u001b[1;31mPlease review the code in the cell(s) to identify a possible cause of the failure. \n",
      "\u001b[1;31mClick <a href='https://aka.ms/vscodeJupyterKernelCrash'>here</a> for more info. \n",
      "\u001b[1;31mView Jupyter <a href='command:jupyter.viewOutput'>log</a> for further details."
     ]
    }
   ],
   "source": [
    "from collections import Counter\n",
    "a = \"aaaaabbbbbccc\"\n",
    "my_counter = Counter(a) # Counter return how many repition each alphebat has\n",
    "my_counter.keys() # returns the keys\n",
    "my_counter.values() \n",
    "my_counter.most_common(1) # the most common element\n",
    "my_counter.most_common(2) # the two most common elements\n",
    "my_counter.most_common(2)[0][0]\n",
    "list(my_counter.elements())\n"
   ]
  },
  {
   "cell_type": "code",
   "execution_count": null,
   "metadata": {},
   "outputs": [],
   "source": [
    "# namedtuple: \n",
    "from collections import namedtuple\n",
    "\n",
    "color = (55,155,255) # Regular tuple: immutable\n",
    "print(color[0]) # Does not know what 55 means if it has some meaningful definition before\n",
    "\n",
    "color = {'red':55, 'green':155, 'blue':255} # Regular dictionary mutable - means you can change the value\n",
    "color['red']\n",
    "\n",
    "Color = namedtuple('Color',['red','green','blue']) # First argument is tuple's name and second is keys\n",
    "namedtupleColor = Color(55, 155, 255) \n",
    "namedtupleColor.red\n",
    "\n",
    "namedtupleColor = Color(red = 55, green = 155, blue = 255) \n",
    "namedtupleColor\n",
    "\n"
   ]
  },
  {
   "cell_type": "code",
   "execution_count": null,
   "metadata": {},
   "outputs": [],
   "source": [
    "# OrderedDict\n",
    "from collections import OrderedDict\n",
    "ordered_dict = OrderedDict()\n",
    "ordered_dict['a'] = 1\n",
    "ordered_dict['b'] = 2\n",
    "ordered_dict['c'] = 3\n",
    "ordered_dict['d'] = 4\n"
   ]
  }
 ],
 "metadata": {
  "kernelspec": {
   "display_name": "MONTHLYREPORT-omFkZ47_",
   "language": "python",
   "name": "python3"
  },
  "language_info": {
   "codemirror_mode": {
    "name": "ipython",
    "version": 3
   },
   "file_extension": ".py",
   "mimetype": "text/x-python",
   "name": "python",
   "nbconvert_exporter": "python",
   "pygments_lexer": "ipython3",
   "version": "3.12.0"
  }
 },
 "nbformat": 4,
 "nbformat_minor": 2
}
