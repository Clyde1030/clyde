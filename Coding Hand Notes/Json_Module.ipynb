{
 "cells": [
  {
   "cell_type": "code",
   "execution_count": 1,
   "metadata": {},
   "outputs": [],
   "source": [
    "# Example Json file \n",
    "people_string = '''\n",
    "{\n",
    "    \"people\":[\n",
    "        {\n",
    "            \"name\":\"John Smith\",\n",
    "            \"phone\":\"615-555-7164\",\n",
    "            \"emails\":[\"johnsmith@email.com\", \"john.smith@work.com\"],\n",
    "            \"has_license\": false\n",
    "        },\n",
    "        {\n",
    "            \"name\":\"Jane Doe\",\n",
    "            \"phone\":\"560-555-5153\",\n",
    "            \"emails\":[\"janedoe@email.com\", \"jane.doe@work.com\"],\n",
    "            \"has_license\": true\n",
    "   \n",
    "        }\n",
    "    ]\n",
    "}\n",
    "'''"
   ]
  },
  {
   "cell_type": "markdown",
   "metadata": {},
   "source": [
    "Load the Json file with json module"
   ]
  },
  {
   "cell_type": "code",
   "execution_count": 3,
   "metadata": {},
   "outputs": [
    {
     "name": "stdout",
     "output_type": "stream",
     "text": [
      "<class 'dict'>\n",
      "<class 'list'>\n"
     ]
    }
   ],
   "source": [
    "import json\n",
    "data = json.loads(people_string) # Read as \"load-s\"\n",
    "print(type(data)) # All these info will be converted to Pythin dictionary format\n",
    "print(type(data['people'])) "
   ]
  },
  {
   "cell_type": "markdown",
   "metadata": {},
   "source": [
    "Access each name in the Json file"
   ]
  },
  {
   "cell_type": "code",
   "execution_count": 4,
   "metadata": {},
   "outputs": [
    {
     "name": "stdout",
     "output_type": "stream",
     "text": [
      "John Smith\n",
      "Jane Doe\n"
     ]
    }
   ],
   "source": [
    "for person in data['people']:\n",
    "    print(person['name'])"
   ]
  },
  {
   "cell_type": "markdown",
   "metadata": {},
   "source": [
    "We can delete the information in the dictionary"
   ]
  },
  {
   "cell_type": "code",
   "execution_count": 5,
   "metadata": {},
   "outputs": [
    {
     "name": "stdout",
     "output_type": "stream",
     "text": [
      "{'people': [{'name': 'John Smith', 'emails': ['johnsmith@email.com', 'john.smith@work.com'], 'has_license': False}, {'name': 'Jane Doe', 'emails': ['janedoe@email.com', 'jane.doe@work.com'], 'has_license': True}]}\n"
     ]
    }
   ],
   "source": [
    "for person in data['people']:\n",
    "    del person['phone']\n",
    "print(data)"
   ]
  },
  {
   "cell_type": "markdown",
   "metadata": {},
   "source": [
    "We can also reverse a Python dictionary to a Json file"
   ]
  },
  {
   "cell_type": "code",
   "execution_count": 6,
   "metadata": {},
   "outputs": [
    {
     "data": {
      "text/plain": [
       "'{\\n  \"people\": [\\n    {\\n      \"emails\": [\\n        \"johnsmith@email.com\",\\n        \"john.smith@work.com\"\\n      ],\\n      \"has_license\": false,\\n      \"name\": \"John Smith\"\\n    },\\n    {\\n      \"emails\": [\\n        \"janedoe@email.com\",\\n        \"jane.doe@work.com\"\\n      ],\\n      \"has_license\": true,\\n      \"name\": \"Jane Doe\"\\n    }\\n  ]\\n}'"
      ]
     },
     "execution_count": 6,
     "metadata": {},
     "output_type": "execute_result"
    }
   ],
   "source": [
    "new_strings = json.dumps(data, indent=2, sort_keys= True)\n",
    "new_strings"
   ]
  },
  {
   "cell_type": "markdown",
   "metadata": {},
   "source": [
    "Load a Json file"
   ]
  },
  {
   "cell_type": "code",
   "execution_count": null,
   "metadata": {},
   "outputs": [],
   "source": [
    "with open(r'C:\\Users\\yu-shenglee\\Desktop\\Python\\states.json') as f:\n",
    "    data = json.load(f)\n",
    "\n",
    "for state in data['states']:\n",
    "    print(state['name'], state['abbreviation'])"
   ]
  },
  {
   "cell_type": "markdown",
   "metadata": {},
   "source": [
    "Write to a json file"
   ]
  },
  {
   "cell_type": "code",
   "execution_count": null,
   "metadata": {},
   "outputs": [],
   "source": [
    "for state in data['states']:\n",
    "    del state['area_codes']\n",
    "with open('new_states.json','w') as f:\n",
    "    json.dump(data, f, indent=2)"
   ]
  },
  {
   "cell_type": "markdown",
   "metadata": {},
   "source": [
    "Load a Json file from a website"
   ]
  },
  {
   "cell_type": "code",
   "execution_count": null,
   "metadata": {},
   "outputs": [],
   "source": [
    "from urllib.request import urlopen\n",
    "\n",
    "with urlopen(\"http://finance.yahoo.com/webservice/v1/symbols/allcurrencies/quote?format=json\") as response:\n",
    "    source = response.read()\n",
    "\n",
    "data = json.loads(source)\n",
    "\n",
    "print(json.dumps(data, indent = 2))"
   ]
  }
 ],
 "metadata": {
  "kernelspec": {
   "display_name": "Python 3",
   "language": "python",
   "name": "python3"
  },
  "language_info": {
   "codemirror_mode": {
    "name": "ipython",
    "version": 3
   },
   "file_extension": ".py",
   "mimetype": "text/x-python",
   "name": "python",
   "nbconvert_exporter": "python",
   "pygments_lexer": "ipython3",
   "version": "3.12.3"
  }
 },
 "nbformat": 4,
 "nbformat_minor": 2
}
