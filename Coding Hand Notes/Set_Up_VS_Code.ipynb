{
 "cells": [
  {
   "cell_type": "markdown",
   "metadata": {},
   "source": [
    "##### Install Extensions\n",
    "`Jupyter Notebook`<br>\n",
    "`Pylance`<br>\n",
    "`Python`<br>\n",
    "\n",
    "##### Add 'PATH' to terminal\n",
    "\n",
    "1. Open Visual Studio Code<br>\n",
    "2. Open the command pallette with Command + Shift + P (or F1)<br>\n",
    "3. Type Shell in command palette `>>Shell Command: Install 'code' command in PATH`<br>\n",
    "4. Select Shell Command: Install code in PATH from suggested list<br>\n",
    "5. Now we can use `code .` command to open a folder from the terminal"
   ]
  },
  {
   "cell_type": "markdown",
   "metadata": {},
   "source": [
    "##### Download Homebrew and Git on MAC OS\n",
    "1. Go to https://brew.sh/ <br>\n",
    "2. Copy the code and execute in Terminal <br>\n",
    "`/bin/bash -c \"$(curl -fsSL https://raw.githubusercontent.com/Homebrew/install/HEAD/install.sh)\"`\n",
    "3. See the instructions returned from the terminal. You may need to add brew command to PATH if it does not recognize the command by trying `brew --version`<br>\n",
    "4. <code>brew install git</code><br>\n",
    "\n",
    "\n",
    "##### Clone the Git Repo in VS Code\n",
    "After VS Code and Git is installed, log into Git Repo in VS Code. Select a folder to place the git repo folder. Enter the username/email and the password. Follow the instructions to clone the repo."
   ]
  },
  {
   "cell_type": "markdown",
   "metadata": {},
   "source": [
    "##### Install Python\n",
    "1. Go to Python website to download Python packages<br>\n",
    "2. If successful, test `python` or `python3` (for Mac OS) commands in the terminal<br>\n",
    "\n",
    "##### Set Up a virtual environment\n",
    "1. Install pipenv using `pip install pipenv` or `pip3 install pipenv`(Mac OS)<br>"
   ]
  },
  {
   "cell_type": "markdown",
   "metadata": {},
   "source": [
    "##### Key Shortcuts\n",
    "* Go to places<br>\n",
    "Search View: `CMD + Shift + F`<br>\n",
    "Integrated Source Control View: `CMD + Shift + G`<br>\n",
    "Debugger Mode: `CMD + Shift + D`<br>\n",
    "Extension View: `CMD + Shift + X`<br>\n",
    "Command Pallete: `CMD + Shift + P`<br>\n",
    "Zen Mode: `CMD + K + Z `(Press CMD+K first, into command mode and then press Z)<br>\n",
    "Terminal: `Ctrl + ~`<br>\n",
    "Clear the Terminal: `Cmd + K`<br>\n",
    "Keyboard Shortcuts List: `Cmd K + S`<br>\n",
    "\n",
    "* Run Codes<br>\n",
    "Debug: F5<br>\n",
    "Step Into: F11<br>\n",
    "Run Python Selection/Line in Python Terminal: Shift + Enter<br>\n",
    "\n",
    "* In terminal<br>\n",
    "Enter \"python3\" to get into the python interpreter.<br>\n",
    "Enter \"exit()\" to exit out so you can install packages etc.<br>\n",
    "Trigger intellisense: Ctrl + Space<br>\n",
    "REPL(Re-Evaluate Print Loop): A python extension. It enters an interactive form to work with Python that you can perform in VS Code.<br>\n",
    "\n",
    "* Code Formatting:<br>\n",
    "(If invalid syntax error happens when installing packages, run exit() on terminal first and re-try.)<br>\n",
    "\n",
    "* pip install autopep8:<br>\n",
    "Go to Code -> Preferences -> Setting -> Python Formatting -> Python > Formatting: Provider<br>\n",
    "Make sure autopep8 is selected<br>\n"
   ]
  },
  {
   "cell_type": "markdown",
   "metadata": {},
   "source": []
  }
 ],
 "metadata": {
  "language_info": {
   "name": "python"
  }
 },
 "nbformat": 4,
 "nbformat_minor": 2
}
