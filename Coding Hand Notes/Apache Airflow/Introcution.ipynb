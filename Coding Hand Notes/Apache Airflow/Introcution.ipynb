{
 "cells": [
  {
   "cell_type": "markdown",
   "metadata": {},
   "source": [
    "# Apache Airflow"
   ]
  },
  {
   "cell_type": "markdown",
   "metadata": {},
   "source": [
    "## * Run Airflow in Python"
   ]
  },
  {
   "cell_type": "markdown",
   "metadata": {},
   "source": [
    "### Install Airflow\n",
    "1. Go to https://github.com/apache/airflow?tab=readme-ov-file#installing-from-pypi\n",
    "2. Copy `pip install 'apache-airflow==2.9.1' --constraint \"https://raw.githubusercontent.com/apache/airflow/constraints-2.9.1/constraints-3.12.txt\"`. Modify the Python version to your local Python version before you execute it.\n",
    "3. During the first time you install in your Mac, the error `command 'gcc' failed with exit status 1` might happen. The solution is to install xcode by executing in the command line `xcode-select --install`\n",
    "4. May need to try Step 2 again"
   ]
  },
  {
   "cell_type": "markdown",
   "metadata": {
    "vscode": {
     "languageId": "plaintext"
    }
   },
   "source": [
    "### Inititalize the Airflow database\n",
    "1. `export AIRFLOW_HOME=.` Make Airflow home directory path to the current working directory\n",
    "2. Initialize the database with command `airflow db init`. This step will create a `airflow.db` and some config files. \n",
    "3. `airflow webserver -p 8080` to start Airflow Web Server\n",
    "4. Open the link http://0.0.0.0:8080 in the browser(shown in command line). It will prompt to create a credential for logging in.\n",
    "5. See `airflow users create --help`\n",
    "6. Create an account by `airflow users create --username clyde -f clyde -l lee --role Admin --email yusheng.clyde.lee@outlook.com \n",
    "7. Create a password in a separate step `clyde1030`\n",
    "8. Restart the web server again by `airflow webserver -p 8080`\n",
    "9. Fill in the username and password in the web server"
   ]
  },
  {
   "cell_type": "markdown",
   "metadata": {
    "vscode": {
     "languageId": "plaintext"
    }
   },
   "source": [
    "### If the error says \"The scheduler does not appear to be running\"\n",
    "1. export `AIRFLOW_HOME=.` Make Airflow home directory path to the current working directory again.\n",
    "2. Check if the virtual environment is created.\n",
    "3. `airflow scheduler` to start the Airflow Scheduler"
   ]
  },
  {
   "cell_type": "markdown",
   "metadata": {
    "vscode": {
     "languageId": "plaintext"
    }
   },
   "source": [
    "## * Run Airflow in Docker"
   ]
  },
  {
   "cell_type": "markdown",
   "metadata": {},
   "source": []
  }
 ],
 "metadata": {
  "language_info": {
   "name": "python"
  }
 },
 "nbformat": 4,
 "nbformat_minor": 2
}
