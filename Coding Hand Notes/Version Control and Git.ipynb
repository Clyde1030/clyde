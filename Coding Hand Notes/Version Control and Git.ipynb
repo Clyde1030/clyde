{
 "cells": [
  {
   "cell_type": "markdown",
   "metadata": {},
   "source": [
    "Show Directory:\n",
    "`C:\\dev> dir`<br>\n",
    "\n",
    "Cloning ReinsuranceSettlements repository to local dev folder<br>\n",
    "`C:\\dev>git clone j:\\mlife\\Repositories\\ReinsuranceSettlements` Cloning files to dev<br>\n",
    "\n",
    "Change Directory:<br>\n",
    "`H:\\ > C:` change from H drive to C drive<br>\n",
    "`C:\\Windows\\System32>cd \\dev` Change Directory to dev folder<br>\n",
    "`C: \\dev>cd ReinsuranceSettlements` Change Directory to ReinsuranceSettlements folder. You can just type RE and press tab<br>\n",
    "\n",
    "`C: \\dev\\ReinsuranceSettlements>git pull` pull update to your repository<br>\n",
    "`C: \\dev\\ReinsuranceSettlements>git log --graph` pull graph<br>\n",
    "`C: \\dev\\ReinsuranceSettlements>git status` view the status of your repository<br>\n",
    "`C: \\dev\\ReinsuranceSettlements>git add etl/2021/Q4/instructions.json` add this file to the update process <be sure to pull the file you want to add to the folder>\n",
    "`C: \\dev\\ReinsuranceSettlements>git commit -m` commit<br>\n",
    "`C: \\dev\\ReinsuranceSettlements>git log` check the log; log contain the history of change<br>\n",
    "`C: \\dev\\ReinsuranceSettlements>git push`<br>\n",
    "`q` to quit<br>\n"
   ]
  }
 ],
 "metadata": {
  "language_info": {
   "name": "python"
  }
 },
 "nbformat": 4,
 "nbformat_minor": 2
}
